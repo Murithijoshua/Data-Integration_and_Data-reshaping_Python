{
 "cells": [
  {
   "cell_type": "code",
   "id": "initial_id",
   "metadata": {
    "collapsed": true,
    "ExecuteTime": {
     "end_time": "2024-12-15T21:29:42.843830Z",
     "start_time": "2024-12-15T21:29:42.449251Z"
    }
   },
   "source": [
    "import pandas as pd\n",
    "import json\n"
   ],
   "outputs": [],
   "execution_count": 1
  },
  {
   "metadata": {
    "ExecuteTime": {
     "end_time": "2024-12-15T21:29:47.810006Z",
     "start_time": "2024-12-15T21:29:47.178232Z"
    }
   },
   "cell_type": "code",
   "source": [
    "data={}\n",
    "with open('test.json', 'r', encoding='utf-8') as f:\n",
    "    files_data=json.load(f)\n",
    "    data=files_data['data']\n",
    "\n",
    "print(len(data))\n",
    "# print(data.keys())"
   ],
   "id": "31a086b15a755ea7",
   "outputs": [
    {
     "name": "stdout",
     "output_type": "stream",
     "text": [
      "100336\n"
     ]
    }
   ],
   "execution_count": 2
  },
  {
   "metadata": {
    "ExecuteTime": {
     "end_time": "2024-12-15T21:31:20.522803Z",
     "start_time": "2024-12-15T21:31:20.517699Z"
    }
   },
   "cell_type": "code",
   "source": [
    "print(len(data))\n",
    "print(data[1]['attributes'])"
   ],
   "id": "9b2e6f82c286ca7e",
   "outputs": [
    {
     "name": "stdout",
     "output_type": "stream",
     "text": [
      "100336\n",
      "{'ces_user_id': '40798169', 'chapter': 'AIA Mississippi', 'designation': 'AIA', 'email': 'fmp_eighttest@architects-team.m8r.co', 'first_name': 'shrekk', 'last_name': '5', 'location': 'dwdds, AK', 'middle_name': None, 'name': 'shrekk 5', 'organization': None, 'chapter_state': 'MS - Mississippi', 'chapter_local': None, 'chapter_section': 'NA'}\n"
     ]
    }
   ],
   "execution_count": 6
  },
  {
   "metadata": {
    "ExecuteTime": {
     "end_time": "2024-12-15T21:35:54.024437Z",
     "start_time": "2024-12-15T21:35:54.007044Z"
    }
   },
   "cell_type": "code",
   "source": [
    "datasets=[]\n",
    "def create_data_objects(data):\n",
    "    for item in data:\n",
    "        datasets.append(item['attributes'])\n",
    "\n",
    "\n",
    "create_data_objects(data)\n",
    "print(datasets[1])"
   ],
   "id": "882dfeecb79d4e3e",
   "outputs": [
    {
     "name": "stdout",
     "output_type": "stream",
     "text": [
      "{'ces_user_id': '40798169', 'chapter': 'AIA Mississippi', 'designation': 'AIA', 'email': 'fmp_eighttest@architects-team.m8r.co', 'first_name': 'shrekk', 'last_name': '5', 'location': 'dwdds, AK', 'middle_name': None, 'name': 'shrekk 5', 'organization': None, 'chapter_state': 'MS - Mississippi', 'chapter_local': None, 'chapter_section': 'NA'}\n"
     ]
    }
   ],
   "execution_count": 8
  },
  {
   "metadata": {
    "ExecuteTime": {
     "end_time": "2024-12-15T21:38:23.497403Z",
     "start_time": "2024-12-15T21:37:48.106157Z"
    }
   },
   "cell_type": "code",
   "source": [
    "df=pd.DataFrame(datasets)\n",
    "df.to_excel('members.xlsx')"
   ],
   "id": "956b253739a0cf32",
   "outputs": [],
   "execution_count": 10
  }
 ],
 "metadata": {
  "kernelspec": {
   "display_name": "Python 3",
   "language": "python",
   "name": "python3"
  },
  "language_info": {
   "codemirror_mode": {
    "name": "ipython",
    "version": 2
   },
   "file_extension": ".py",
   "mimetype": "text/x-python",
   "name": "python",
   "nbconvert_exporter": "python",
   "pygments_lexer": "ipython2",
   "version": "2.7.6"
  }
 },
 "nbformat": 4,
 "nbformat_minor": 5
}
