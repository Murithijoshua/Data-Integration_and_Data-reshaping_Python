{
 "cells": [
  {
   "cell_type": "markdown",
   "metadata": {},
   "source": [
    "# Talbe of contents\n",
    "\n",
    "* [Introduction](#introduction)\n",
    "* [Import libraries](#importlibraries)\n",
    "* [Task 1: Data Integration](#task_1)\n",
    "    * [Step 01: Find the suburb](#step01)\n",
    "    * [Step 02: Find the closest train station id and distance(m)](#step02)\n",
    "    * [Step 03: Calculate the average travel time from the closest train station to Southern Cross Station](#step03)\n",
    "    * [Step 04: over priced?](#step04)\n",
    "    * [Step 05: crime A/B/C average](#step05)\n",
    "    * [Step 06: Find the closest primary/ Secondary school and the distance(m) between property](#step06)\n",
    "    * [Step 07: Primary / Secondary School Ranking](#step07)\n",
    "\n",
    "* [Taks 2: Data reshaping](#task_2)\n",
    "\n",
    "* [Summary](#summary)"
   ]
  },
  {
   "cell_type": "markdown",
   "metadata": {},
   "source": [
    "# Introduction\n",
    "<a id=\"introduction\"></a>\n",
    "\n",
    "Here are two main targets in this assignment. \n",
    "\n",
    "First is to integrate several datasets into one single schema and input some data and fix possible problems in this final data.\n",
    "\n",
    "Second is to find which attributes( Rooms, crime_C_average,travel_min_to_CBD, and property_age) is important to predict the price when we want to build a linear model. In addition, in this part we will use different normalization/ transformation metods, such as standardization, min-max normalization, log, power, and root transformation on attributes to observe and explore the effect on the linear model we want to build.\n",
    "\n"
   ]
  },
  {
   "cell_type": "markdown",
   "metadata": {},
   "source": [
    "# Import libraries\n",
    "<a id=\"importlibraries\"></a>\n",
    "Import some libraries for this assignment:\n",
    "* pandas\n",
    "* re \n",
    "* numpy \n",
    "* sklearn\n",
    "* BeautifulSoup\n",
    "* geopandas\n",
    "* pygtfs\n",
    "* shapely\n",
    "* math\n",
    "* datetime\n",
    "* urllib\n",
    "* difflib\n",
    "* zipfile"
   ]
  },
  {
   "cell_type": "code",
   "execution_count": 69,
   "metadata": {},
   "outputs": [],
   "source": [
    "#!pip install pandas\n",
    "#!pip install bs4\n",
    "#!pip install geopandas\n",
    "#!pip install pygtfs\n",
    "import pygtfs\n",
    "from bs4 import BeautifulSoup as bsoup\n",
    "import pandas as pd\n",
    "import geopandas as gpd\n",
    "from shapely.geometry import shape, Point\n",
    "import fiona\n",
    "from math import *\n",
    "import numpy as np\n",
    "from datetime import datetime, timedelta\n",
    "from urllib.request import urlopen\n",
    "import re\n",
    "import difflib\n",
    "from zipfile import ZipFile\n",
    "import os\n",
    "import sys \n",
    "from sklearn import preprocessing\n",
    "from matplotlib import pyplot as plt\n",
    "import statsmodels.formula.api as sm\n",
    "import math"
   ]
  },
  {
   "cell_type": "markdown",
   "metadata": {},
   "source": [
    "# Task 1: Data Integration\n",
    "<a id=\"task_1\"></a>\n",
    "In this task, integrate some datasets into on with the following schema."
   ]
  },
  {
   "cell_type": "code",
   "execution_count": 2,
   "metadata": {},
   "outputs": [],
   "source": [
    "#read the csv file\n",
    "df = pd.read_csv(\"Group081.csv\")"
   ]
  },
  {
   "cell_type": "markdown",
   "metadata": {},
   "source": [
    "## Find the suburb\n",
    "<a id=\"step01\"></a>\n",
    "\n",
    "The target in this step is to find the property in which suburb.\n",
    "\n",
    "We use the Vic_suburb_boundary.zip file to set the suburb boundary, and if the property's lattitude and longtitude are included in the suburb's lattitude and longtitude, we fill the suburb for this property."
   ]
  },
  {
   "cell_type": "code",
   "execution_count": 3,
   "metadata": {},
   "outputs": [],
   "source": [
    "# Extract the zip file of vic_suburb_boundary.zip\n",
    "zip_boundary = ZipFile('vic_suburb_boundary.zip')\n",
    "zip_boundary.extractall()"
   ]
  },
  {
   "cell_type": "code",
   "execution_count": 4,
   "metadata": {},
   "outputs": [],
   "source": [
    "# open the VIC_LOCALITY_POLYGON_shp.shp by using fiona libary\n",
    "collection = fiona.open('VIC_LOCALITY_POLYGON_shp.shp')\n",
    "\n",
    "shapes = {}\n",
    "townnames = {}\n",
    "for f in collection:\n",
    "    # the surburb id\n",
    "    town_id = f['properties']['LC_PLY_PID']  \n",
    "    # the lattitude and longtitude boundary of surburb\n",
    "    shapes[town_id] = shape(f['geometry']) \n",
    "    # the surburb name\n",
    "    townnames[town_id] =f['properties']['VIC_LOCA_2']\n",
    "    \n",
    "def search(lat, long):  \n",
    "    global shapes, townnames\n",
    "    #if the lattitude and longtitude are included in the suburb's lattitude and longtitude, return suburb name.\n",
    "    return next((townnames[town_id]  for town_id in shapes if shapes[town_id].contains(Point(lat, long))), None)"
   ]
  },
  {
   "cell_type": "code",
   "execution_count": 5,
   "metadata": {},
   "outputs": [],
   "source": [
    "# apply the search hunction to the df\n",
    "df['Suburb']=df.apply(lambda x: search(x.Longtitude, x.Lattitude),axis=1)"
   ]
  },
  {
   "cell_type": "markdown",
   "metadata": {},
   "source": [
    "## Find the train station id and station distance (m)\n",
    "<a id=\"step02\"></a>\n",
    "The target in this part is to find the closest train staion to the property which has a direct trip to the Southern Cross Railway Station and the direct distance from the closest train station to the property.\n",
    "\n",
    "In this section, we first extract gtfs file to find the stations and trips data, and then create get distance function to calculate the distance from the property to the cloest train station.\n",
    "\n"
   ]
  },
  {
   "cell_type": "code",
   "execution_count": 6,
   "metadata": {},
   "outputs": [],
   "source": [
    "#Extract the gtfs file\n",
    "zip_gtfs = ZipFile('gtfs.zip')\n",
    "zip_gtfs.extractall()"
   ]
  },
  {
   "cell_type": "code",
   "execution_count": 7,
   "metadata": {},
   "outputs": [
    {
     "name": "stdout",
     "output_type": "stream",
     "text": [
      "Loading GTFS data for <class 'pygtfs.gtfs_entities.Agency'>:\n",
      "Loading GTFS data for <class 'pygtfs.gtfs_entities.Stop'>:\n",
      "Loading GTFS data for <class 'pygtfs.gtfs_entities.Route'>:\n",
      "Loading GTFS data for <class 'pygtfs.gtfs_entities.Trip'>:\n",
      "Loading GTFS data for <class 'pygtfs.gtfs_entities.StopTime'>:\n",
      "Loading GTFS data for <class 'pygtfs.gtfs_entities.Service'>:\n",
      "Loading GTFS data for <class 'pygtfs.gtfs_entities.ServiceException'>:\n",
      "Loading GTFS data for <class 'pygtfs.gtfs_entities.Fare'>:\n",
      "Loading GTFS data for <class 'pygtfs.gtfs_entities.FareRule'>:\n",
      "Loading GTFS data for <class 'pygtfs.gtfs_entities.ShapePoint'>:\n",
      "Loading GTFS data for <class 'pygtfs.gtfs_entities.Frequency'>:\n",
      "Loading GTFS data for <class 'pygtfs.gtfs_entities.Transfer'>:\n",
      "Loading GTFS data for <class 'pygtfs.gtfs_entities.FeedInfo'>:\n",
      "Loading GTFS data for <class 'pygtfs.gtfs_entities.Translation'>:\n",
      "1 record read for <class 'pygtfs.gtfs_entities.Agency'>.\n",
      "109 records read for <class 'pygtfs.gtfs_entities.Stop'>.\n",
      "188 records read for <class 'pygtfs.gtfs_entities.Route'>.\n",
      ".5869 records read for <class 'pygtfs.gtfs_entities.Trip'>.\n",
      "..............72489 records read for <class 'pygtfs.gtfs_entities.StopTime'>.\n",
      "40 records read for <class 'pygtfs.gtfs_entities.Service'>.\n",
      "5 records read for <class 'pygtfs.gtfs_entities.ServiceException'>.\n",
      "...................................................................................................................................................735691 records read for <class 'pygtfs.gtfs_entities.ShapePoint'>.\n",
      "Complete.\n",
      "Loading GTFS data for <class 'pygtfs.gtfs_entities.Agency'>:\n",
      "Loading GTFS data for <class 'pygtfs.gtfs_entities.Stop'>:\n",
      "Loading GTFS data for <class 'pygtfs.gtfs_entities.Route'>:\n",
      "Loading GTFS data for <class 'pygtfs.gtfs_entities.Trip'>:\n",
      "Loading GTFS data for <class 'pygtfs.gtfs_entities.StopTime'>:\n",
      "Loading GTFS data for <class 'pygtfs.gtfs_entities.Service'>:\n",
      "Loading GTFS data for <class 'pygtfs.gtfs_entities.ServiceException'>:\n",
      "Loading GTFS data for <class 'pygtfs.gtfs_entities.Fare'>:\n",
      "Loading GTFS data for <class 'pygtfs.gtfs_entities.FareRule'>:\n",
      "Loading GTFS data for <class 'pygtfs.gtfs_entities.ShapePoint'>:\n",
      "Loading GTFS data for <class 'pygtfs.gtfs_entities.Frequency'>:\n",
      "Loading GTFS data for <class 'pygtfs.gtfs_entities.Transfer'>:\n",
      "Loading GTFS data for <class 'pygtfs.gtfs_entities.FeedInfo'>:\n",
      "Loading GTFS data for <class 'pygtfs.gtfs_entities.Translation'>:\n",
      "1 record read for <class 'pygtfs.gtfs_entities.Agency'>.\n",
      "222 records read for <class 'pygtfs.gtfs_entities.Stop'>.\n",
      "98 records read for <class 'pygtfs.gtfs_entities.Route'>.\n",
      ".....26487 records read for <class 'pygtfs.gtfs_entities.Trip'>.\n",
      ".............................................................................................469488 records read for <class 'pygtfs.gtfs_entities.StopTime'>.\n",
      "31 records read for <class 'pygtfs.gtfs_entities.Service'>.\n",
      "2 records read for <class 'pygtfs.gtfs_entities.ServiceException'>.\n",
      "............................................................................380120 records read for <class 'pygtfs.gtfs_entities.ShapePoint'>.\n",
      "Complete.\n"
     ]
    },
    {
     "data": {
      "text/plain": [
       "<pygtfs.schedule.Schedule at 0x11cde94d0>"
      ]
     },
     "execution_count": 7,
     "metadata": {},
     "output_type": "execute_result"
    }
   ],
   "source": [
    "# create a schedule object (a sqlite database)\n",
    "sched = pygtfs.Schedule(\":memory:\")                \n",
    "# append data to schedule object\n",
    "pygtfs.append_feed(sched, \"./1/google_transit.zip\")\n",
    "pygtfs.append_feed(sched, \"./2/google_transit.zip\")"
   ]
  },
  {
   "cell_type": "markdown",
   "metadata": {},
   "source": [
    "#### In this step, we find the station name and station's Longtitude and Lattitude."
   ]
  },
  {
   "cell_type": "code",
   "execution_count": 8,
   "metadata": {},
   "outputs": [],
   "source": [
    "# get the query of trips in schedule\n",
    "sched_trips=sched.trips_query\n",
    "# get the query of services in schedule\n",
    "sched_services=sched.services_query\n",
    "# get the query of stops in schedule\n",
    "sched_stops=sched.stops_query\n",
    "# get the query of stop_times in schedule\n",
    "sched_stop_time=sched.stop_times_query.all()\n",
    "\n",
    "\n",
    "\n",
    "#stops={}\n",
    "stops_id=[]\n",
    "station_name=[]\n",
    "station_lat_lon=[]\n",
    "\n",
    "# for loop in the query of stops\n",
    "for i in sched_stops.all():\n",
    "    stop_id=i.stop_id\n",
    "    stop_name=i.stop_name\n",
    "    stop_lat=i.stop_lat\n",
    "    stop_lon=i.stop_lon\n",
    "    #stops[stop_id]={'stop_name':stop_name,'stop_lat':stop_lat,'stop_lon':stop_lon}\n",
    "    lat_lon=[stop_lat,stop_lon]\n",
    "    #append stop name to station_name list\n",
    "    \n",
    "    if stop_id not in stops_id:\n",
    "        station_name.append(stop_name)\n",
    "        #append lat and long to lat_lon list\n",
    "        station_lat_lon.append(lat_lon)\n",
    "        #append stop id to stop_id list\n",
    "        stops_id.append(stop_id)\n",
    "\n",
    "# translate the list of station_lat_lon to matrix\n",
    "station_lat_lon_mat=np.matrix(station_lat_lon)   \n",
    "    "
   ]
  },
  {
   "cell_type": "markdown",
   "metadata": {},
   "source": [
    "#### In this step, we find the service ids that are work in weekday."
   ]
  },
  {
   "cell_type": "code",
   "execution_count": 9,
   "metadata": {},
   "outputs": [],
   "source": [
    "# get the query of services in schedule\n",
    "sched_service=sched.services_query.all()\n",
    "weekday_service_id=[]\n",
    "\n",
    "#for loop in sched_service\n",
    "for i in sched_service:\n",
    "    service_id=i.service_id\n",
    "    M=int(i.monday)\n",
    "    T=int(i.tuesday)\n",
    "    W=int(i.wednesday)\n",
    "    Th=int(i.thursday)\n",
    "    F=int(i.friday)\n",
    "    \n",
    "    #if M+T+W+Th+F >=1, append service_id to weekday_service_id\n",
    "    if M+T+W+Th+F == 5 and service_id not in weekday_service_id:\n",
    "        weekday_service_id.append(service_id)"
   ]
  },
  {
   "cell_type": "markdown",
   "metadata": {},
   "source": [
    "#### In this step, we filter trips that are work in weekday."
   ]
  },
  {
   "cell_type": "code",
   "execution_count": 10,
   "metadata": {},
   "outputs": [],
   "source": [
    "weekday_trip=[]\n",
    "#for loop in the query of services in schedule\n",
    "for i in sched_trips.all():\n",
    "    route_id=i.route_id\n",
    "    service_id=i.service_id\n",
    "    trip_id=i.trip_id\n",
    "    #if service_id in weekday_service_id, append trip_id to weekday_trip\n",
    "    if service_id in weekday_service_id:\n",
    "        weekday_trip.append(trip_id)"
   ]
  },
  {
   "cell_type": "markdown",
   "metadata": {},
   "source": [
    "#### In this step, we find trips that are work in weekday and departrue time between 8:00 am to 9:30am and combine with the station id."
   ]
  },
  {
   "cell_type": "code",
   "execution_count": 11,
   "metadata": {},
   "outputs": [],
   "source": [
    "southern_cross_stop_id=['20043','22180']\n",
    "# set a dictionary to store the trip and stop station id\n",
    "trip_stop={}\n",
    "\n",
    "# for loop in the query of stop_time\n",
    "for i in sched_stop_time:\n",
    "    stop_list=[]\n",
    "    stop_id=i.stop_id\n",
    "    trip_id=i.trip_id\n",
    "    # append stop_id to stop_list\n",
    "    stop_list.append(stop_id)\n",
    "    arrival_time=i.arrival_time\n",
    "    departure_time=i.departure_time\n",
    "    # if departure_time between '7:00:00' and '9:30:00', trip_id in trip_list, stop_id equals to station_id, append departure_time to departure_time_list\n",
    "    if str(departure_time) >= '7:00:00' and str(departure_time) < '9:30:00' and trip_id in weekday_trip: \n",
    "        if trip_id not in trip_stop.keys():\n",
    "            trip_stop[trip_id]=stop_list\n",
    "        else:\n",
    "            original_value=trip_stop[trip_id]\n",
    "            original_value.append(stop_id)\n",
    "            trip_stop[trip_id]=original_value\n",
    "    # if trip_id in trip_stop.keys and if stop_id equals to southern_corss_stop_id, add the value to trip_stop[trip_id]\n",
    "    elif trip_id in trip_stop.keys():\n",
    "        if stop_id == southern_cross_stop_id[0]:\n",
    "            original_value=trip_stop[trip_id]\n",
    "            original_value.append(southern_cross_stop_id[0])\n",
    "            trip_stop[trip_id]=original_value\n",
    "        elif stop_id == southern_cross_stop_id[1]:\n",
    "            original_value=trip_stop[trip_id]\n",
    "            original_value.append(southern_cross_stop_id[1])\n",
    "            trip_stop[trip_id]=original_value\n",
    "            "
   ]
  },
  {
   "cell_type": "markdown",
   "metadata": {},
   "source": [
    "#### Create the get_distance function that calculate the distance between property and station."
   ]
  },
  {
   "cell_type": "code",
   "execution_count": 12,
   "metadata": {},
   "outputs": [],
   "source": [
    "def get_distance(target,house):\n",
    "    # radius of equator: KM\n",
    "    ra = 6378  \n",
    "    \n",
    "    # change angle to radians\n",
    "    target_rad_lat = np.radians(target[:,0])\n",
    "    target_rad_lon = np.radians(target[:,1])\n",
    "    house_rad_lat = np.radians(house[:,0])\n",
    "    house_rad_lon = np.radians(house[:,1])\n",
    "    \n",
    "    dlon = house_rad_lon - target_rad_lon\n",
    "    dlat = house_rad_lat - target_rad_lat\n",
    "    a=np.power((np.sin(dlat/2)),2)+ np.multiply(np.multiply(np.cos(target_rad_lat),np.cos(house_rad_lat)),np.power((np.sin(dlon/2.0)),2))\n",
    "    c = 2 * np.arcsin(np.sqrt(a))\n",
    "    distance = ra * c *1000\n",
    "    \n",
    "    return distance"
   ]
  },
  {
   "cell_type": "markdown",
   "metadata": {},
   "source": [
    "#### Create the find_station function to find the closest station and the distance between this station."
   ]
  },
  {
   "cell_type": "code",
   "execution_count": 13,
   "metadata": {},
   "outputs": [],
   "source": [
    "def find_station_name(lat,lon):\n",
    "    Find_loc = np.matrix([[lat,lon]])\n",
    "    #run get_distance function to get all distance between station.\n",
    "    all_distance = get_distance(station_lat_lon_mat,Find_loc)\n",
    "    #list 100 lowest distance\n",
    "    rank_100=list(all_distance.argsort(axis=0)[:100])\n",
    "    #for loop in rank_100\n",
    "    for i in rank_100:\n",
    "        # if station id equals to southern_cross_stop_id, return southern_cross_stop_id, and break the function\n",
    "        if stops_id[int(i)] == southern_cross_stop_id[0]:\n",
    "            return southern_cross_stop_id[0]\n",
    "            break\n",
    "        elif stops_id[int(i)] == southern_cross_stop_id[1]:\n",
    "            return southern_cross_stop_id[1]\n",
    "            break\n",
    "            \n",
    "        else:\n",
    "            #for loop in the values in the dictionary of trip_stop \n",
    "            for j in trip_stop.values(): \n",
    "                # if target station id and southern_corss_station id all in trip, return station name and distance\n",
    "                if stops_id[int(i)] in j and southern_cross_stop_id[0] in j and j.index(stops_id[int(i)]) < j.index(southern_cross_stop_id[0]):\n",
    "                    station=stops_id[int(i)]\n",
    "                    distance=round(float(all_distance[int(i)]),3)\n",
    "                    return station\n",
    "                    break\n",
    "                elif stops_id[int(i)] in j and southern_cross_stop_id[1] in j and j.index(stops_id[int(i)]) < j.index(southern_cross_stop_id[1]):\n",
    "                    station=stops_id[int(i)]\n",
    "                    distance=round(float(all_distance[int(i)]),3)\n",
    "                    return station\n",
    "                    break"
   ]
  },
  {
   "cell_type": "markdown",
   "metadata": {},
   "source": [
    "#### Create the find_station function to find the closest station and the distance between this station."
   ]
  },
  {
   "cell_type": "code",
   "execution_count": 14,
   "metadata": {},
   "outputs": [],
   "source": [
    "def find_station_distance(lat,lon):\n",
    "    Find_loc = np.matrix([[lat,lon]])\n",
    "    #run get_distance function to get all distance between station.\n",
    "    all_distance = get_distance(station_lat_lon_mat,Find_loc)\n",
    "    #list 500 lowest distance\n",
    "    rank_10=list(all_distance.argsort(axis=0)[:100])\n",
    "    for i in rank_10:\n",
    "        for j in trip_stop.values(): \n",
    "            # if target station id and southern_corss_station id all in trip, return station name and distance\n",
    "            if stops_id[int(i)] in j and (southern_cross_stop_id[0] in j or southern_cross_stop_id[1] in j):\n",
    "                station=stops_id[int(i)]\n",
    "                distance=round(float(all_distance[int(i)]),3)\n",
    "                return distance\n",
    "                break"
   ]
  },
  {
   "cell_type": "code",
   "execution_count": 15,
   "metadata": {},
   "outputs": [],
   "source": [
    "# apply the find_station_name function to df\n",
    "df['train_station_id']=df.apply(lambda x: find_station_name(x.Lattitude, x.Longtitude),axis=1)\n",
    "# apply the find_station_distance function to df\n",
    "df['distance_to_train_station']=df.apply(lambda x: find_station_distance(x.Lattitude, x.Longtitude),axis=1)"
   ]
  },
  {
   "cell_type": "markdown",
   "metadata": {},
   "source": [
    "## travel_min_to_CBD\n",
    "<a id=\"step03\"></a>\n",
    "\n",
    "In this target, we will find the average travel time(minutes) from the closest train station to the Southern Cross Railway Station on weekdays.\n"
   ]
  },
  {
   "cell_type": "markdown",
   "metadata": {},
   "source": [
    "#### Create the average_min function to calcualte the average travel time(minutes) from the closest train station to the Southern Cross Railway Station on weekdays"
   ]
  },
  {
   "cell_type": "code",
   "execution_count": 16,
   "metadata": {},
   "outputs": [],
   "source": [
    "def average_min(station_id):\n",
    "    station_id=station_id\n",
    "    if station_id not in southern_cross_stop_id:\n",
    "        trip_list=[]\n",
    "        #for loop in trip_stop dictionary\n",
    "        for key,values in trip_stop.items():\n",
    "            # if station_id and southern_cross_stop_id all in values, key in weekday_trip,and the index of station_id less than southern_cross_stop_id in values, append key to trip_list\n",
    "            if station_id in values and southern_cross_stop_id[0] in values and values.index(station_id)<values.index(southern_cross_stop_id[0]):\n",
    "                if key in weekday_trip:\n",
    "                    trip_list.append(key)\n",
    "            # if station_id and southern_cross_stop_id all in values, key in weekday_trip,and the index of station_id less than southern_cross_stop_id in values, append key to trip_list\n",
    "            elif station_id in values and southern_cross_stop_id[1] in values and values.index(station_id)<values.index(southern_cross_stop_id[1]):\n",
    "                if key in weekday_trip:\n",
    "                    trip_list.append(key)\n",
    "    \n",
    "    \n",
    "        departure_time_list=[]\n",
    "        arrival_time_list=[]\n",
    "    \n",
    "        #for loop in sched_stop_time\n",
    "        for i in sched_stop_time:\n",
    "            stop_id=i.stop_id\n",
    "            trip_id=i.trip_id\n",
    "            arrival_time=i.arrival_time\n",
    "            departure_time=i.departure_time\n",
    "            # if trip_id in trip_list, stop_id equals to station_id, append departure_time to departure_time_list\n",
    "            if trip_id in trip_list and stop_id == station_id: \n",
    "                departure_time_list.append(departure_time)\n",
    "            #if trip_id in trip_list and stop_id equals to southern_cross_stop_id, append arrival_time to arrival_time_list\n",
    "            if trip_id in trip_list and stop_id in southern_cross_stop_id: \n",
    "                arrival_time_list.append(arrival_time)\n",
    "            \n",
    "        #calculate the average by minus arrival_time and departure_time\n",
    "        sum_second=0\n",
    "        count=0\n",
    "        for i in range(len(arrival_time_list)):\n",
    "            sum_second+=(arrival_time_list[i]-departure_time_list[i]).seconds\n",
    "            count+=1\n",
    "\n",
    "        average_min=(sum_second/60)/count\n",
    "    \n",
    "    #if the station_id is equals to southern cross station, the average_min equals to zero\n",
    "    else:\n",
    "        average_min=0\n",
    "    \n",
    "    #return average_min\n",
    "    return average_min\n"
   ]
  },
  {
   "cell_type": "code",
   "execution_count": 17,
   "metadata": {},
   "outputs": [],
   "source": [
    "df['travel_min_to_CBD']=df.apply(lambda x: average_min(x.train_station_id),axis=1)"
   ]
  },
  {
   "cell_type": "markdown",
   "metadata": {},
   "source": [
    "## over priced?\n",
    "<a id=\"step04\"></a>\n",
    "In this step, we will find the boolean feature that whether or not the price of the property is higher than the median price of similar properties( with same bedrooms, batheroom, parking_space, and property_type) in the same suburb on the year of selling.\n"
   ]
  },
  {
   "cell_type": "code",
   "execution_count": 18,
   "metadata": {},
   "outputs": [],
   "source": [
    "df['Year'] = df.apply(lambda x: x.Date[-4:], axis=1) # append a new column which stands for the year of selling."
   ]
  },
  {
   "cell_type": "code",
   "execution_count": 19,
   "metadata": {},
   "outputs": [],
   "source": [
    "# create a list storing columns used to check similarity\n",
    "similar_list = ['Year',\n",
    "                'Rooms',\n",
    "                'Type',\n",
    "                'Bathroom',\n",
    "                'Car',\n",
    "                'Suburb']\n",
    "\n",
    "# get mean\n",
    "df_mean = df.groupby(similar_list).mean()\n",
    "\n",
    "# get count\n",
    "df_count = df.groupby(similar_list).count()"
   ]
  },
  {
   "cell_type": "markdown",
   "metadata": {},
   "source": [
    "#### define a function to get key for df_mean and df_count"
   ]
  },
  {
   "cell_type": "code",
   "execution_count": 20,
   "metadata": {},
   "outputs": [],
   "source": [
    "def get_key(x):\n",
    "    key = (x.Year, x.Rooms, x.Type, x.Bathroom, x.Car, x.Suburb)\n",
    "    return key\n",
    "\n",
    "# create a new column named 'over_priced', and if there is no any similar property\n",
    "df['over_priced?'] = df.apply(lambda x: x.Price > df_mean.loc[get_key(x)].Price,\n",
    "                              axis=1)"
   ]
  },
  {
   "cell_type": "markdown",
   "metadata": {},
   "source": [
    "#### open councils.txt and create a dictionary which takes suburbs as keys and local government area as values"
   ]
  },
  {
   "cell_type": "code",
   "execution_count": 21,
   "metadata": {},
   "outputs": [],
   "source": [
    "with open('councils.txt') as councils:\n",
    "    sub_dict = {}\n",
    "    \n",
    "    for line in councils:\n",
    "        # spilt line to a list\n",
    "        line_list = line.strip().split(' :')\n",
    "        \n",
    "        # area means the loval government area\n",
    "        area = line_list[0]\n",
    "        \n",
    "        # transform the suburbs string into a list\n",
    "        sub_list = re.findall(r'\\'(.*?)\\'', line_list[1])\n",
    "        \n",
    "        # add new items into the dictionary\n",
    "        for suburb in sub_list:\n",
    "            sub_dict[suburb.upper()] = area"
   ]
  },
  {
   "cell_type": "markdown",
   "metadata": {},
   "source": [
    "## Crime A/B/C average\n",
    "<a id=\"step05\"></a>\n",
    "\n",
    "In this step, we calculate the average of type A/B/C crime in the local government area that the property belongs to , in the three years prior to selling the property as the property."
   ]
  },
  {
   "cell_type": "code",
   "execution_count": 22,
   "metadata": {},
   "outputs": [],
   "source": [
    "# open crimebylocationdatatable-yearending31march2016.xlsx, starts from 20th row\n",
    "xl = pd.read_excel('crimebylocationdatatable-yearending31march2016.xlsx',\n",
    "                   sheet_name='Table 1',\n",
    "                   skiprows=19)\n",
    "\n",
    "# drop an useless column\n",
    "crime = xl.drop(columns='Unnamed: 0')"
   ]
  },
  {
   "cell_type": "code",
   "execution_count": 23,
   "metadata": {},
   "outputs": [],
   "source": [
    "# group by year, crime type and government area and get summary of each group\n",
    "crime_sum = crime.groupby(['Apr - Mar reference period',\n",
    "                           'CSA Offence Division',\n",
    "                           'Local Government Area']).sum()"
   ]
  },
  {
   "cell_type": "markdown",
   "metadata": {},
   "source": [
    "#### define functions to get the average of crimes in the three years prior to selling the property."
   ]
  },
  {
   "cell_type": "code",
   "execution_count": 24,
   "metadata": {},
   "outputs": [],
   "source": [
    "def get_A(x):\n",
    "    \n",
    "    # check if the key is in the crime_sum\n",
    "    if (int(x.Year)-1, 'A Crimes against the person', sub_dict[x.Suburb]) in crime_sum.index\\\n",
    "    and (int(x.Year)-2, 'A Crimes against the person', sub_dict[x.Suburb]) in crime_sum.index\\\n",
    "    and (int(x.Year)-3, 'A Crimes against the person', sub_dict[x.Suburb]) in crime_sum.index:\n",
    "        \n",
    "        # get the summary of three years\n",
    "        # keys are year, crime type and government area\n",
    "        sum = \\\n",
    "        crime_sum.loc[(int(x.Year)-1, 'A Crimes against the person', sub_dict[x.Suburb])]['Offence Count'] +\\\n",
    "        crime_sum.loc[(int(x.Year)-2, 'A Crimes against the person', sub_dict[x.Suburb])]['Offence Count'] +\\\n",
    "        crime_sum.loc[(int(x.Year)-3, 'A Crimes against the person', sub_dict[x.Suburb])]['Offence Count']\n",
    "        \n",
    "        # get the average\n",
    "        avg = sum/3\n",
    "        \n",
    "    # if the year of selling is earlier than 2015, set it to default value: -1 \n",
    "    else:\n",
    "        avg = -1\n",
    "    return avg"
   ]
  },
  {
   "cell_type": "code",
   "execution_count": 25,
   "metadata": {},
   "outputs": [],
   "source": [
    "def get_B(x):\n",
    "    if (int(x.Year)-1, 'B Property and deception offences', sub_dict[x.Suburb]) in crime_sum.index\\\n",
    "    and (int(x.Year)-2, 'B Property and deception offences', sub_dict[x.Suburb]) in crime_sum.index\\\n",
    "    and (int(x.Year)-3, 'B Property and deception offences', sub_dict[x.Suburb]) in crime_sum.index:\n",
    "        sum = \\\n",
    "        crime_sum.loc[(int(x.Year)-1, 'B Property and deception offences', sub_dict[x.Suburb])]['Offence Count'] +\\\n",
    "        crime_sum.loc[(int(x.Year)-2, 'B Property and deception offences', sub_dict[x.Suburb])]['Offence Count'] +\\\n",
    "        crime_sum.loc[(int(x.Year)-3, 'B Property and deception offences', sub_dict[x.Suburb])]['Offence Count']\n",
    "        avg = sum/3\n",
    "    else:\n",
    "        avg = -1\n",
    "    return avg"
   ]
  },
  {
   "cell_type": "code",
   "execution_count": 26,
   "metadata": {},
   "outputs": [],
   "source": [
    "def get_C(x):\n",
    "    if (int(x.Year)-1, 'C Drug offences', sub_dict[x.Suburb]) in crime_sum.index\\\n",
    "    and (int(x.Year)-2, 'C Drug offences', sub_dict[x.Suburb]) in crime_sum.index\\\n",
    "    and (int(x.Year)-3, 'C Drug offences', sub_dict[x.Suburb]) in crime_sum.index:\n",
    "        sum = \\\n",
    "        crime_sum.loc[(int(x.Year)-1, 'C Drug offences', sub_dict[x.Suburb])]['Offence Count'] +\\\n",
    "        crime_sum.loc[(int(x.Year)-2, 'C Drug offences', sub_dict[x.Suburb])]['Offence Count'] +\\\n",
    "        crime_sum.loc[(int(x.Year)-3, 'C Drug offences', sub_dict[x.Suburb])]['Offence Count']\n",
    "        avg = sum/3\n",
    "    else:\n",
    "        avg = -1\n",
    "    return avg"
   ]
  },
  {
   "cell_type": "code",
   "execution_count": 27,
   "metadata": {},
   "outputs": [],
   "source": [
    "# apply functions for each crime type\n",
    "df['crime_A_average'] = df.apply(lambda x: get_A(x), axis=1)\n",
    "df['crime_B_average'] = df.apply(lambda x: get_B(x), axis=1)\n",
    "df['crime_C_average'] = df.apply(lambda x: get_C(x), axis=1)"
   ]
  },
  {
   "cell_type": "code",
   "execution_count": 28,
   "metadata": {},
   "outputs": [],
   "source": [
    "df = df.drop(columns='Year')"
   ]
  },
  {
   "cell_type": "markdown",
   "metadata": {},
   "source": [
    "## Find the closest primary/ Secondary school and the distance (m) between property\n",
    "<a id=\"step06\"></a>\n",
    "\n",
    "In this section, we find the colos the closest primary school to the property. In addition, we will calculate the direct distance between the property and the closest primary school.\n",
    "\n",
    "We will use bsoup to parse the xml file and extract the data we need, and then use get_distance function to calculate the distance."
   ]
  },
  {
   "cell_type": "code",
   "execution_count": 29,
   "metadata": {},
   "outputs": [],
   "source": [
    "# use bsoup to open the schools.xml file\n",
    "soup = bsoup(open('schools.xml'),\"lxml-xml\")\n",
    "school_name_list=[]\n",
    "p_school_list=[]\n",
    "p_school_lat_lon=[]\n",
    "\n",
    "s_school_list=[]\n",
    "s_school_lat_lon=[]\n",
    "\n",
    "# for loop in soup.find_all('school')\n",
    "for i in soup.find_all('school'):\n",
    "        School_name=i.find(\"School_Name\").string \n",
    "        Education_Sector=i.find(\"Education_Sector\").string \n",
    "        Entity_Type=i.find(\"Entity_Type\").string \n",
    "        School_No=i.find(\"School_No\").string \n",
    "        School_Type=i.find(\"School_Type\").string \n",
    "        Full_Phone_No=i.find(\"Full_Phone_No\").string \n",
    "        LGA_ID=i.find(\"LGA_ID\").string \n",
    "        LGA_Name=i.find(\"LGA_Name\").string \n",
    "        X=float(i.find(\"X\").string)\n",
    "        Y=float(i.find(\"Y\").string)\n",
    "        school_name_list.append(School_name)\n",
    "        #if school_type equals to 'Primary' or 'Pri/Sec', append school_name to p_school_list and append lat_lon to p_school_lat_lon\n",
    "        if School_Type == 'Primary' or School_Type == 'Pri/Sec':\n",
    "            p_school_list.append(School_name)\n",
    "            lat_lon=[Y,X]\n",
    "            p_school_lat_lon.append(lat_lon)\n",
    "        #if school_type equals to 'Secondary' or 'Pri/Sec', append school_name to s_school_list and append lat_lon to s_school_lat_lon\n",
    "        if School_Type == 'Secondary' or School_Type == 'Pri/Sec':\n",
    "            s_school_list.append(School_name)\n",
    "            lat_lon=[Y,X]\n",
    "            s_school_lat_lon.append(lat_lon)\n",
    "            \n",
    "# translate the list of p_school_lat_lon_matrix to matrix            \n",
    "p_school_lat_lon_matrix=np.matrix(p_school_lat_lon)  \n",
    "# translate the list of s_school_lat_lon_matrix to matrix    \n",
    "s_school_lat_lon_matrix=np.matrix(s_school_lat_lon)  "
   ]
  },
  {
   "cell_type": "markdown",
   "metadata": {},
   "source": [
    "#### Create the primary_school)name function to find the closest primary school."
   ]
  },
  {
   "cell_type": "code",
   "execution_count": 30,
   "metadata": {},
   "outputs": [],
   "source": [
    "def primary_school_name(lat,lon):\n",
    "    #matrix the property lat and lon\n",
    "    Find_loc = np.matrix([[lat,lon]])\n",
    "    #run get_distance function to get all distance between propery and primary school.\n",
    "    all_distance = get_distance(p_school_lat_lon_matrix,Find_loc)\n",
    "    school_name = p_school_list[int(all_distance.argmin(axis=0))]\n",
    "    distance = round(float(all_distance[int(all_distance.argmin(axis=0))]),3)\n",
    "    \n",
    "    return school_name"
   ]
  },
  {
   "cell_type": "markdown",
   "metadata": {},
   "source": [
    "#### Create the primary_school_distance function to find the closest primary school and the distance between it."
   ]
  },
  {
   "cell_type": "code",
   "execution_count": 31,
   "metadata": {},
   "outputs": [],
   "source": [
    "def primary_school_distance(lat,lon):\n",
    "    #matrix the property lat and lon\n",
    "    Find_loc = np.matrix([[lat,lon]])\n",
    "    #run get_distance function to get all distance between propery and primary school.\n",
    "    all_distance = get_distance(p_school_lat_lon_matrix,Find_loc)\n",
    "    school_name = p_school_list[int(all_distance.argmin(axis=0))]\n",
    "    distance = round(float(all_distance[int(all_distance.argmin(axis=0))]),3)\n",
    "    \n",
    "    return distance"
   ]
  },
  {
   "cell_type": "markdown",
   "metadata": {},
   "source": [
    "#### Create the secondary_school)name function to find the closest secondary school and the distance between it."
   ]
  },
  {
   "cell_type": "code",
   "execution_count": 32,
   "metadata": {},
   "outputs": [],
   "source": [
    "def secondary_school_name(lat,lon):\n",
    "    Find_loc = np.matrix([[lat,lon]])\n",
    "    #run get_distance function to get all distance between property and secondary school.\n",
    "    all_distance = get_distance(s_school_lat_lon_matrix,Find_loc)\n",
    "    school_name = s_school_list[int(all_distance.argmin(axis=0))]\n",
    "    distance = round(float(all_distance[int(all_distance.argmin(axis=0))]),3)\n",
    "    \n",
    "    return school_name"
   ]
  },
  {
   "cell_type": "markdown",
   "metadata": {},
   "source": [
    "#### Create the secondary_school_distance function to find the closest secondary school and the distance between it."
   ]
  },
  {
   "cell_type": "code",
   "execution_count": 33,
   "metadata": {},
   "outputs": [],
   "source": [
    "def secondary_school_distance(lat,lon):\n",
    "    Find_loc = np.matrix([[lat,lon]])\n",
    "    #run get_distance function to get all distance between property and secondary school.\n",
    "    all_distance = get_distance(s_school_lat_lon_matrix,Find_loc)\n",
    "    school_name = s_school_list[int(all_distance.argmin(axis=0))]\n",
    "    distance = round(float(all_distance[int(all_distance.argmin(axis=0))]),3)\n",
    "    \n",
    "    return distance"
   ]
  },
  {
   "cell_type": "code",
   "execution_count": 34,
   "metadata": {},
   "outputs": [],
   "source": [
    "#apply primary_school_name function to df\n",
    "df['closest_primary_school']=df.apply(lambda x: primary_school_name(x.Lattitude, x.Longtitude),axis=1)\n",
    "#apply primary_school_distance function to df\n",
    "df['distance_to_closest_primary']=df.apply(lambda x: primary_school_distance(x.Lattitude, x.Longtitude),axis=1)\n",
    "#apply secondary_school_name function to df\n",
    "df['closest_secondary_school']=df.apply(lambda x: secondary_school_name(x.Lattitude, x.Longtitude),axis=1)\n",
    "#apply secondary_school_distance function to df\n",
    "df['distance_to_closest secondary']=df.apply(lambda x: secondary_school_distance(x.Lattitude, x.Longtitude),axis=1)"
   ]
  },
  {
   "cell_type": "markdown",
   "metadata": {},
   "source": [
    "## Primary / Secondary School Ranking\n",
    "<a id=\"step07\"></a>\n",
    "\n",
    "In this step, we input the rank of the closest primary/ secondary to the propery.\n",
    "\n",
    "The rank we are using is from web, therefore, we need to use Web Scraping to get the rank which we want.\n"
   ]
  },
  {
   "cell_type": "markdown",
   "metadata": {},
   "source": [
    "### Primary"
   ]
  },
  {
   "cell_type": "code",
   "execution_count": 35,
   "metadata": {},
   "outputs": [],
   "source": [
    "#use the urlopen() function to open the web\n",
    "html = urlopen(\"http://www.schoolcatchment.com.au/?p=12301\")\n",
    "bsobj = bsoup(html, \"lxml\")"
   ]
  },
  {
   "cell_type": "code",
   "execution_count": 36,
   "metadata": {},
   "outputs": [],
   "source": [
    "primary_school_rank={}\n",
    "\n",
    "# for loop in bsobj.find_all('table')\n",
    "for i in bsobj.find_all('table'):\n",
    "    School_rank=i.find_all(\"td\",{'class':'column-1'})\n",
    "    School_name=i.find_all(\"td\",{'class':'column-2'})    \n",
    "    # for loop in zip(School_name, School_rank)\n",
    "    for name, rank in zip(School_name, School_rank):\n",
    "        #if name not in the dictionary of primary_school_rank, set the value to rank\n",
    "        if name.string not in primary_school_rank.keys():\n",
    "            primary_school_rank[name.string]= int(rank.string)\n",
    "     "
   ]
  },
  {
   "cell_type": "markdown",
   "metadata": {},
   "source": [
    "#### In this step, we will to check if there are some mismatch between school rank and p_school_list"
   ]
  },
  {
   "cell_type": "code",
   "execution_count": 37,
   "metadata": {},
   "outputs": [
    {
     "name": "stdout",
     "output_type": "stream",
     "text": [
      "Erasmus School\n",
      "Sandridge School\n",
      "Nunawading Christian College - Primary\n",
      "St Leo the Great School\n",
      "Mckinnon Primary School\n",
      "Pleasant Street Primary School ( Ballarat)\n"
     ]
    }
   ],
   "source": [
    "wrong_primary=[]\n",
    "for i in primary_school_rank.keys():\n",
    "    if i not in p_school_list:\n",
    "        wrong_primary.append(i)\n",
    "        print(i)\n"
   ]
  },
  {
   "cell_type": "markdown",
   "metadata": {},
   "source": [
    "#### we could notice that there are some mistake in school rank, therefor, we use get_close_matches function to fix the problems"
   ]
  },
  {
   "cell_type": "code",
   "execution_count": 38,
   "metadata": {},
   "outputs": [],
   "source": [
    "correct_primary_dict={}\n",
    "\n",
    "#for loop in wrong_primary\n",
    "for i in wrong_primary:\n",
    "    school=difflib.get_close_matches(i, p_school_list, n=1, cutoff=0.90)\n",
    "    # if the length of school better than zero, set the wrong school name as key and correct school name as value \n",
    "    if len(school) >0:\n",
    "        for j in school:\n",
    "            correct_primary_dict[i]=j\n",
    "\n",
    "#for loop to change the wrong school name to correct school name         \n",
    "for i in correct_primary_dict.keys():\n",
    "    if i in primary_school_rank.keys():\n",
    "        primary_school_rank[correct_primary_dict[i]]=primary_school_rank[i]\n",
    "        del primary_school_rank[i]"
   ]
  },
  {
   "cell_type": "markdown",
   "metadata": {},
   "source": [
    "#### Create the primary_rank function to input the primary school rank"
   ]
  },
  {
   "cell_type": "code",
   "execution_count": 39,
   "metadata": {},
   "outputs": [],
   "source": [
    "def primary_rank(primary_school):\n",
    "    primary_school_name = primary_school\n",
    "    # if primary_school_name in the keys in primary_school_rank,set the value in the dictionary of primary_school_rank as rank \n",
    "    if primary_school_name in primary_school_rank.keys():\n",
    "        rank = primary_school_rank[primary_school_name]\n",
    "    else:\n",
    "        rank = 'not ranked'\n",
    "    \n",
    "    return rank"
   ]
  },
  {
   "cell_type": "code",
   "execution_count": 40,
   "metadata": {},
   "outputs": [],
   "source": [
    "#apply primary_rank function to df\n",
    "df['primary_school_ranking']=df.apply(lambda x: primary_rank(x.closest_primary_school),axis=1)"
   ]
  },
  {
   "cell_type": "markdown",
   "metadata": {},
   "source": [
    "### Secondary"
   ]
  },
  {
   "cell_type": "code",
   "execution_count": 41,
   "metadata": {},
   "outputs": [],
   "source": [
    "secondary_school=[]\n",
    "text=[]\n",
    "# input the file\n",
    "temp = open('Temp.txt', 'w')\n",
    "\n",
    "# set the identify patterns\n",
    "pattern_name=re.compile('^<div>([a-zA-Z].*?)<')\n",
    "\n",
    "#open the 'secondary-school-ranking.htm' file\n",
    "with open('secondary-school-ranking.htm') as fp:\n",
    "    # read each line in file\n",
    "    for line in fp:\n",
    "        #if line is not end with '</div><hr />\\n', '<hr />\\n', or '<hr /></ul>\\n' replace \\n to ' '\n",
    "        if line != '</div><hr />\\n' or line !='<hr />\\n' or line !='<hr /></ul>\\n':\n",
    "            line = line.replace('\\n',' ')\n",
    "            line = line.replace('N/A','')\n",
    "            temp.write(line)\n",
    "        else:\n",
    "            temp.write(line)                \n",
    "        \n",
    "        #strip the line\n",
    "        lines=line.strip()\n",
    "        #append lines to text list\n",
    "        text.append(lines)\n",
    "\n",
    "# read each line in text        \n",
    "for line in text:\n",
    "    search_name = pattern_name.search(line)\n",
    "    #if search_name is not None append name to secondary_school\n",
    "    if search_name is not None:\n",
    "        name=search_name.group(1)\n",
    "        if name != 'N/A':\n",
    "            secondary_school.append(name)\n",
    "\n",
    "#close the file\n",
    "temp.close()      "
   ]
  },
  {
   "cell_type": "code",
   "execution_count": 42,
   "metadata": {},
   "outputs": [],
   "source": [
    "# input the file\n",
    "temp = open('Temp.txt', 'r')\n",
    "rank_list=[]\n",
    "\n",
    "# set the identify patterns\n",
    "pattern_rank=re.compile('<div>[a-zA-Z].*?</div> <div>(\\d.*?)<')\n",
    "\n",
    "# read each line in temp\n",
    "for line in temp:    \n",
    "    find_rank = pattern_rank.findall(line)\n",
    "    # for loop in find_rank, and append rank to rank_list\n",
    "    for rank in find_rank:\n",
    "        rank_list.append(rank)\n",
    "\n",
    "#close the file       \n",
    "temp.close() "
   ]
  },
  {
   "cell_type": "code",
   "execution_count": 43,
   "metadata": {},
   "outputs": [],
   "source": [
    "Secondary_school_rank={}\n",
    "#for loop in zip(secondary_school,rank_list)\n",
    "for school,rank in zip(secondary_school,rank_list):\n",
    "    # if school not in secondary_school_rank, set school as key, rank as value in dictionary of Secondary_school_rank\n",
    "    if school not in Secondary_school_rank.keys():\n",
    "        Secondary_school_rank[school]=rank"
   ]
  },
  {
   "cell_type": "markdown",
   "metadata": {},
   "source": [
    "#### In this step, we will to check if there are some mismatch between school rank and s_school_list"
   ]
  },
  {
   "cell_type": "code",
   "execution_count": 44,
   "metadata": {},
   "outputs": [
    {
     "name": "stdout",
     "output_type": "stream",
     "text": [
      "Advance College of Education\n",
      "Albury Wodonga Comm College\n",
      "Australian Internatl Academy\n",
      "Ballarat SC - Mount Rowan\n",
      "Ballarat SC - Woodmans Hill\n",
      "Belgrave Heights Christian Schl\n",
      "Bendigo Senior Sec College\n",
      "Bendigo TAFE\n",
      "Berry Street Victoria\n",
      "Berwick Grammar School\n",
      "Box Hill Institute\n",
      "Box Hill Senior Sec College\n",
      "Brauer College\n",
      "Camberwell Anglican Girls GS\n",
      "Canterbury Girls Sec College\n",
      "Caroline Chisholm Catholic Coll\n",
      "Carrum Downs Sec College\n",
      "Cathedral College\n",
      "Catholic Ladies College\n",
      "Centre for Adult Education\n",
      "Chisholm Institute\n",
      "Chisholm Institute of TAFE\n",
      "Christian Brothers' College\n",
      "Christian College Institute\n",
      "Cire Community School\n",
      "Cranbourne East Sec College\n",
      "Derrinallum P12 College\n",
      "Diamond Valley Learn Centre\n",
      "Dimboola Memorial Sec College\n",
      "Distance Education Victoria\n",
      "Diversitat\n",
      "Djerriwarrh Emp. &amp; Edu. Servic.\n",
      "East Doncaster Sec College\n",
      "Education Centre Gippsland\n",
      "F.C.J. College\n",
      "Federation Training\n",
      "Federation University Australia\n",
      "Fintona Girls School\n",
      "Flinders Christian Comm College\n",
      "Fountain Gate Sec College\n",
      "Galen College\n",
      "Genazzano F.C.J. College\n",
      "Gladstone Park Sec College\n",
      "Glen Waverley Sec College\n",
      "Glenroy Neighbourhood Centre\n",
      "Gordon Institute of TAFE\n",
      "Goulburn Ovens Inst of TAFE\n",
      "Goulburn Valley Grammar Schl\n",
      "Greensborough Sec College\n",
      "Haileybury Rendall School\n",
      "Hallam Senior Sec College\n",
      "Hampton Park Sec College\n",
      "Hawkesdale College\n",
      "Hester Hornbrook Academy\n",
      "Heywood &amp; District Sec College\n",
      "Highview Christian Comm College\n",
      "Holmesglen Institute of TAFE\n",
      "Hoppers Crossing Sec College\n",
      "Hume Central Sec College\n",
      "Ilim College Boys Campus\n",
      "John Fawkner College\n",
      "Kangan Institute of TAFE\n",
      "Kaniva P-12 College\n",
      "Kardinia Internatl College\n",
      "Keilor Downs College\n",
      "Kensington Comm High School\n",
      "Keysborough SC - Acacia\n",
      "Keysborough SC - Banksia\n",
      "Kings College\n",
      "Koo Wee Rup Sec College\n",
      "Korumburra Sec College\n",
      "Lakes Entrance Sec College\n",
      "Lakeside Lutheran College\n",
      "Lalor North Sec College\n",
      "Lauriston Girls School\n",
      "Lowther Hall Anglican GS\n",
      "Mac.Robertson Girls' High Schl\n",
      "MacKillop Catholic Reg College\n",
      "Marian College Ararat\n",
      "Marian College Myrtleford\n",
      "Marian College Sunshine\n",
      "Maribyrnong Sec College\n",
      "Marist - Sion College\n",
      "Mary MacKillop Catholic College\n",
      "Matthew Flinders Girls' SC\n",
      "Melba College\n",
      "Melbourne Girls' College\n",
      "Melbourne Polytechnic\n",
      "Melbourne Rudolf Steiner Schl\n",
      "Mentone Girls' Sec College\n",
      "Merinda Park Learning Centre\n",
      "Methodist Ladies College\n",
      "Mirboo North Sec College\n",
      "Montmorency Sec College\n",
      "Mortlake College\n",
      "Mount Alexander 7-12 Coll\n",
      "Mount Beauty Sec College\n",
      "Mount Eliza Sec College\n",
      "Mount Erin College\n",
      "Mount Evelyn Christian School\n",
      "Mount Waverley Sec College\n",
      "Mountain District Christian SC\n",
      "Mountain District Learn Centre\n",
      "Mullauna College\n",
      "Murtoa P-12 College\n",
      "Narre Community Learn Centre\n",
      "Narre Warren Sth P-12 College\n",
      "Neerim District Sec College\n",
      "North Geelong Sec College\n",
      "North Melbourne Grammar Coll\n",
      "North Ringwood Comm House\n",
      "Northern College of Arts &amp; Tech\n",
      "Nunawading Christian College\n",
      "Our Lady of Sacred Heart Coll\n",
      "Overnewton Anglican Comm Coll\n",
      "Parkville College\n",
      "Pascoe Vale Girls Sec College\n",
      "Patterson River Sec College\n",
      "Penleigh &amp; Essendon Grammar\n",
      "Peter Lalor Vocational Coll\n",
      "Phoenix P-12 Comm Coll\n",
      "Pines Learning\n",
      "Point Cook Senior Sec College\n",
      "Presentation College\n",
      "Preshil The Margaret Lyttle SC\n",
      "Preston Reservoir ACE\n",
      "Princes Hill Sec College\n",
      "RMIT TAFE\n",
      "River Nile School\n",
      "SEDA College\n",
      "Sacred Heart College Geelong\n",
      "Sacred Heart College Kyneton\n",
      "Saint Ignatius College\n",
      "Salesian College Sunbury\n",
      "Shepparton ACE College\n",
      "Shepparton Christian College\n",
      "Siena College\n",
      "Sirius College - Eastmeadows\n",
      "Sirius College - Keysborough\n",
      "Sirius College - Meadow Fair\n",
      "Skillsplus\n",
      "South Oakleigh Sec College\n",
      "South West Institute of TAFE\n",
      "Southern Grampians Adult Edu\n",
      "St John's Greek Orth College\n",
      "St Mary of the Angels School\n",
      "St Mary's Coptic Orth College\n",
      "St Patrick's College\n",
      "St Paul's Anglican Grammar Schl\n",
      "Stott's College\n",
      "Strathcona Baptist Girls GS\n",
      "Sunbury Downs Sec College\n",
      "Sunraysia Institute of TAFE\n",
      "Surf Coast Sec College\n",
      "Swinburne Senior Sec College\n",
      "Swinburne Uni of Tech - TAFE\n",
      "Taylors Lakes Sec College\n",
      "Terang College Sec Campus\n",
      "The David Scott School\n",
      "The Hamilton &amp; Alexandra Coll\n",
      "Trinity College Colac\n",
      "Trinity Grammar School\n",
      "Victoria University - TAFE\n",
      "Victoria University SC\n",
      "Victorian College for the Deaf\n",
      "Victorian College of the Arts\n",
      "Wanganui Park Sec College\n",
      "Warracknabeal Sec College\n",
      "Werrimull P-12 College\n",
      "Western Heights Sec College\n",
      "Western Port Sec College\n",
      "Western Senior Sec Coll\n",
      "Wheelers Hill Sec College\n",
      "Whitefriars College\n",
      "William Angliss Inst of TAFE\n",
      "William Ruthven Sec College\n",
      "Wodonga Institute of TAFE\n",
      "Wodonga Senior Sec College\n",
      "Wyndham Central Sec Coll\n",
      "Wyndham Community Centre\n",
      "Yarra Valley Grammar School\n",
      "Yuille Park Community College\n"
     ]
    }
   ],
   "source": [
    "wrong_Secondary=[]\n",
    "for i in Secondary_school_rank.keys():\n",
    "    if i not in s_school_list:\n",
    "        wrong_Secondary.append(i)\n",
    "        print(i)"
   ]
  },
  {
   "cell_type": "markdown",
   "metadata": {},
   "source": [
    "#### we could notice that there are some mistake in school rank, therefor, we use get_close_matches function to fix the problems"
   ]
  },
  {
   "cell_type": "code",
   "execution_count": 50,
   "metadata": {},
   "outputs": [],
   "source": [
    "correct_Secondary_dict={}\n",
    "\n",
    "#for loop in wrong_secondary\n",
    "for i in wrong_Secondary:\n",
    "    school=difflib.get_close_matches(i, s_school_list, n=1, cutoff=0.85)\n",
    "    # if the length of school better than zero, set the wrong school name as key and correct school name as value \n",
    "    if len(school) >0:\n",
    "        for j in school:\n",
    "            correct_Secondary_dict[i]=j\n",
    "            \n",
    "#for loop to change the wrong school name to correct school name\n",
    "for i in correct_Secondary_dict.keys():\n",
    "    if i in Secondary_school_rank.keys():\n",
    "        Secondary_school_rank[correct_Secondary_dict[i]]=Secondary_school_rank[i]\n",
    "        del Secondary_school_rank[i]"
   ]
  },
  {
   "cell_type": "markdown",
   "metadata": {},
   "source": [
    "#### Create the secondary_rank function to input the secondary school rank\n",
    "        "
   ]
  },
  {
   "cell_type": "code",
   "execution_count": 51,
   "metadata": {},
   "outputs": [],
   "source": [
    "def secondary_rank(secondary_school):\n",
    "    secondary_school_name = secondary_school\n",
    "    # if secondary_school_name in the keys in secondary_school_rank,set the value in the dictionary of Secondary_school_rank as rank \n",
    "    if secondary_school_name in Secondary_school_rank.keys():\n",
    "        rank = int(Secondary_school_rank[secondary_school_name])\n",
    "    else:\n",
    "        rank = 'not ranked'\n",
    "    \n",
    "    return rank"
   ]
  },
  {
   "cell_type": "code",
   "execution_count": 52,
   "metadata": {},
   "outputs": [],
   "source": [
    "#apply secondary_rank function to df\n",
    "df['secondary_school_ranking']=df.apply(lambda x: secondary_rank(x.closest_secondary_school),axis=1)\n"
   ]
  },
  {
   "cell_type": "code",
   "execution_count": 56,
   "metadata": {},
   "outputs": [],
   "source": [
    "df = df[['ID','Address','Suburb','Price','Type','Date','Rooms','Bathroom','Car','Landsize','Age','Lattitude','Longtitude','train_station_id','distance_to_train_station','travel_min_to_CBD','over_priced?','crime_A_average','crime_B_average','crime_C_average','closest_primary_school','distance_to_closest_primary','primary_school_ranking','closest_secondary_school','distance_to_closest secondary','secondary_school_ranking']]\n",
    "df=df.set_index('ID')"
   ]
  },
  {
   "cell_type": "code",
   "execution_count": 57,
   "metadata": {},
   "outputs": [
    {
     "data": {
      "text/html": [
       "<div>\n",
       "<style scoped>\n",
       "    .dataframe tbody tr th:only-of-type {\n",
       "        vertical-align: middle;\n",
       "    }\n",
       "\n",
       "    .dataframe tbody tr th {\n",
       "        vertical-align: top;\n",
       "    }\n",
       "\n",
       "    .dataframe thead th {\n",
       "        text-align: right;\n",
       "    }\n",
       "</style>\n",
       "<table border=\"1\" class=\"dataframe\">\n",
       "  <thead>\n",
       "    <tr style=\"text-align: right;\">\n",
       "      <th></th>\n",
       "      <th>Address</th>\n",
       "      <th>Suburb</th>\n",
       "      <th>Price</th>\n",
       "      <th>Type</th>\n",
       "      <th>Date</th>\n",
       "      <th>Rooms</th>\n",
       "      <th>Bathroom</th>\n",
       "      <th>Car</th>\n",
       "      <th>Landsize</th>\n",
       "      <th>Age</th>\n",
       "      <th>...</th>\n",
       "      <th>over_priced?</th>\n",
       "      <th>crime_A_average</th>\n",
       "      <th>crime_B_average</th>\n",
       "      <th>crime_C_average</th>\n",
       "      <th>closest_primary_school</th>\n",
       "      <th>distance_to_closest_primary</th>\n",
       "      <th>primary_school_ranking</th>\n",
       "      <th>closest_secondary_school</th>\n",
       "      <th>distance_to_closest secondary</th>\n",
       "      <th>secondary_school_ranking</th>\n",
       "    </tr>\n",
       "    <tr>\n",
       "      <th>ID</th>\n",
       "      <th></th>\n",
       "      <th></th>\n",
       "      <th></th>\n",
       "      <th></th>\n",
       "      <th></th>\n",
       "      <th></th>\n",
       "      <th></th>\n",
       "      <th></th>\n",
       "      <th></th>\n",
       "      <th></th>\n",
       "      <th></th>\n",
       "      <th></th>\n",
       "      <th></th>\n",
       "      <th></th>\n",
       "      <th></th>\n",
       "      <th></th>\n",
       "      <th></th>\n",
       "      <th></th>\n",
       "      <th></th>\n",
       "      <th></th>\n",
       "      <th></th>\n",
       "    </tr>\n",
       "  </thead>\n",
       "  <tbody>\n",
       "    <tr>\n",
       "      <td>ID140280461</td>\n",
       "      <td>9 Pearce St</td>\n",
       "      <td>YARRAVILLE</td>\n",
       "      <td>955000.0</td>\n",
       "      <td>h</td>\n",
       "      <td>16/04/2016</td>\n",
       "      <td>3</td>\n",
       "      <td>1.0</td>\n",
       "      <td>1.0</td>\n",
       "      <td>202.0</td>\n",
       "      <td>139.0</td>\n",
       "      <td>...</td>\n",
       "      <td>True</td>\n",
       "      <td>703.666667</td>\n",
       "      <td>1502.000000</td>\n",
       "      <td>135.666667</td>\n",
       "      <td>Yarraville West Primary School</td>\n",
       "      <td>555.369</td>\n",
       "      <td>105</td>\n",
       "      <td>Gilmore College For Girls</td>\n",
       "      <td>2478.316</td>\n",
       "      <td>387</td>\n",
       "    </tr>\n",
       "    <tr>\n",
       "      <td>ID397586714</td>\n",
       "      <td>5 Ballater St</td>\n",
       "      <td>ESSENDON</td>\n",
       "      <td>1756000.0</td>\n",
       "      <td>h</td>\n",
       "      <td>17/09/2016</td>\n",
       "      <td>5</td>\n",
       "      <td>2.0</td>\n",
       "      <td>5.0</td>\n",
       "      <td>963.0</td>\n",
       "      <td>69.0</td>\n",
       "      <td>...</td>\n",
       "      <td>False</td>\n",
       "      <td>334.666667</td>\n",
       "      <td>1407.666667</td>\n",
       "      <td>88.333333</td>\n",
       "      <td>St Therese's School</td>\n",
       "      <td>497.772</td>\n",
       "      <td>387</td>\n",
       "      <td>Buckley Park College</td>\n",
       "      <td>703.405</td>\n",
       "      <td>123</td>\n",
       "    </tr>\n",
       "    <tr>\n",
       "      <td>ID956573078</td>\n",
       "      <td>15 Alma St</td>\n",
       "      <td>MALVERN EAST</td>\n",
       "      <td>1550000.0</td>\n",
       "      <td>h</td>\n",
       "      <td>28/08/2016</td>\n",
       "      <td>4</td>\n",
       "      <td>2.0</td>\n",
       "      <td>4.0</td>\n",
       "      <td>848.0</td>\n",
       "      <td>49.0</td>\n",
       "      <td>...</td>\n",
       "      <td>False</td>\n",
       "      <td>610.000000</td>\n",
       "      <td>1743.666667</td>\n",
       "      <td>228.000000</td>\n",
       "      <td>Murrumbeena Primary School</td>\n",
       "      <td>517.742</td>\n",
       "      <td>80</td>\n",
       "      <td>Oakleigh Grammar</td>\n",
       "      <td>1383.905</td>\n",
       "      <td>270</td>\n",
       "    </tr>\n",
       "    <tr>\n",
       "      <td>ID490427481</td>\n",
       "      <td>50 Bamfield St</td>\n",
       "      <td>SANDRINGHAM</td>\n",
       "      <td>2700000.0</td>\n",
       "      <td>h</td>\n",
       "      <td>9/09/2017</td>\n",
       "      <td>4</td>\n",
       "      <td>2.0</td>\n",
       "      <td>1.0</td>\n",
       "      <td>722.0</td>\n",
       "      <td>129.0</td>\n",
       "      <td>...</td>\n",
       "      <td>False</td>\n",
       "      <td>101.666667</td>\n",
       "      <td>251.333333</td>\n",
       "      <td>18.666667</td>\n",
       "      <td>Sandringham Primary School</td>\n",
       "      <td>159.886</td>\n",
       "      <td>353</td>\n",
       "      <td>Sandringham College</td>\n",
       "      <td>1666.155</td>\n",
       "      <td>304</td>\n",
       "    </tr>\n",
       "    <tr>\n",
       "      <td>ID422846797</td>\n",
       "      <td>8 Watchtower Rd</td>\n",
       "      <td>COBURG</td>\n",
       "      <td>675000.0</td>\n",
       "      <td>h</td>\n",
       "      <td>4/02/2016</td>\n",
       "      <td>3</td>\n",
       "      <td>1.0</td>\n",
       "      <td>2.0</td>\n",
       "      <td>142.0</td>\n",
       "      <td>14.0</td>\n",
       "      <td>...</td>\n",
       "      <td>False</td>\n",
       "      <td>1071.333333</td>\n",
       "      <td>5783.666667</td>\n",
       "      <td>419.666667</td>\n",
       "      <td>St Paul's School</td>\n",
       "      <td>460.131</td>\n",
       "      <td>211</td>\n",
       "      <td>Coburg High School</td>\n",
       "      <td>278.849</td>\n",
       "      <td>79</td>\n",
       "    </tr>\n",
       "    <tr>\n",
       "      <td>...</td>\n",
       "      <td>...</td>\n",
       "      <td>...</td>\n",
       "      <td>...</td>\n",
       "      <td>...</td>\n",
       "      <td>...</td>\n",
       "      <td>...</td>\n",
       "      <td>...</td>\n",
       "      <td>...</td>\n",
       "      <td>...</td>\n",
       "      <td>...</td>\n",
       "      <td>...</td>\n",
       "      <td>...</td>\n",
       "      <td>...</td>\n",
       "      <td>...</td>\n",
       "      <td>...</td>\n",
       "      <td>...</td>\n",
       "      <td>...</td>\n",
       "      <td>...</td>\n",
       "      <td>...</td>\n",
       "      <td>...</td>\n",
       "      <td>...</td>\n",
       "    </tr>\n",
       "    <tr>\n",
       "      <td>ID784968145</td>\n",
       "      <td>34 Fewster Dr</td>\n",
       "      <td>WANTIRNA SOUTH</td>\n",
       "      <td>970000.0</td>\n",
       "      <td>h</td>\n",
       "      <td>26/08/2017</td>\n",
       "      <td>3</td>\n",
       "      <td>2.0</td>\n",
       "      <td>2.0</td>\n",
       "      <td>674.0</td>\n",
       "      <td>38.0</td>\n",
       "      <td>...</td>\n",
       "      <td>False</td>\n",
       "      <td>98.666667</td>\n",
       "      <td>190.666667</td>\n",
       "      <td>19.000000</td>\n",
       "      <td>Knox Gardens Primary School</td>\n",
       "      <td>199.105</td>\n",
       "      <td>37</td>\n",
       "      <td>Scoresby Secondary College</td>\n",
       "      <td>909.779</td>\n",
       "      <td>330</td>\n",
       "    </tr>\n",
       "    <tr>\n",
       "      <td>ID255393777</td>\n",
       "      <td>45 Severn Cr</td>\n",
       "      <td>ROWVILLE</td>\n",
       "      <td>936000.0</td>\n",
       "      <td>h</td>\n",
       "      <td>8/07/2017</td>\n",
       "      <td>4</td>\n",
       "      <td>2.0</td>\n",
       "      <td>2.0</td>\n",
       "      <td>675.0</td>\n",
       "      <td>39.0</td>\n",
       "      <td>...</td>\n",
       "      <td>False</td>\n",
       "      <td>1609.333333</td>\n",
       "      <td>6840.666667</td>\n",
       "      <td>525.666667</td>\n",
       "      <td>Park Ridge Primary School</td>\n",
       "      <td>349.547</td>\n",
       "      <td>361</td>\n",
       "      <td>Rowville Secondary College</td>\n",
       "      <td>2071.293</td>\n",
       "      <td>423</td>\n",
       "    </tr>\n",
       "    <tr>\n",
       "      <td>ID764463824</td>\n",
       "      <td>21 Bruce St</td>\n",
       "      <td>BENTLEIGH</td>\n",
       "      <td>1535000.0</td>\n",
       "      <td>h</td>\n",
       "      <td>28/08/2016</td>\n",
       "      <td>3</td>\n",
       "      <td>2.0</td>\n",
       "      <td>2.0</td>\n",
       "      <td>572.0</td>\n",
       "      <td>89.0</td>\n",
       "      <td>...</td>\n",
       "      <td>False</td>\n",
       "      <td>925.666667</td>\n",
       "      <td>4701.333333</td>\n",
       "      <td>308.666667</td>\n",
       "      <td>St Paul's School</td>\n",
       "      <td>898.322</td>\n",
       "      <td>211</td>\n",
       "      <td>McKinnon Secondary College</td>\n",
       "      <td>771.481</td>\n",
       "      <td>48</td>\n",
       "    </tr>\n",
       "    <tr>\n",
       "      <td>ID980413162</td>\n",
       "      <td>78 Valley Pde</td>\n",
       "      <td>GLEN IRIS</td>\n",
       "      <td>2725000.0</td>\n",
       "      <td>h</td>\n",
       "      <td>25/02/2017</td>\n",
       "      <td>4</td>\n",
       "      <td>3.0</td>\n",
       "      <td>2.0</td>\n",
       "      <td>603.0</td>\n",
       "      <td>12.0</td>\n",
       "      <td>...</td>\n",
       "      <td>False</td>\n",
       "      <td>2047.666667</td>\n",
       "      <td>9171.000000</td>\n",
       "      <td>742.333333</td>\n",
       "      <td>St Cecilia's School</td>\n",
       "      <td>243.266</td>\n",
       "      <td>50</td>\n",
       "      <td>Korowa Anglican Girls' School</td>\n",
       "      <td>1424.656</td>\n",
       "      <td>13</td>\n",
       "    </tr>\n",
       "    <tr>\n",
       "      <td>ID430233025</td>\n",
       "      <td>43 Molesworth St</td>\n",
       "      <td>SEAFORD</td>\n",
       "      <td>800000.0</td>\n",
       "      <td>h</td>\n",
       "      <td>8/07/2017</td>\n",
       "      <td>4</td>\n",
       "      <td>2.0</td>\n",
       "      <td>0.0</td>\n",
       "      <td>1151.0</td>\n",
       "      <td>50.0</td>\n",
       "      <td>...</td>\n",
       "      <td>False</td>\n",
       "      <td>101.666667</td>\n",
       "      <td>251.333333</td>\n",
       "      <td>18.666667</td>\n",
       "      <td>Belvedere Park Primary School</td>\n",
       "      <td>493.658</td>\n",
       "      <td>not ranked</td>\n",
       "      <td>Monterey Secondary College</td>\n",
       "      <td>1439.342</td>\n",
       "      <td>507</td>\n",
       "    </tr>\n",
       "  </tbody>\n",
       "</table>\n",
       "<p>720 rows × 25 columns</p>\n",
       "</div>"
      ],
      "text/plain": [
       "                      Address          Suburb      Price Type        Date  \\\n",
       "ID                                                                          \n",
       "ID140280461       9 Pearce St      YARRAVILLE   955000.0    h  16/04/2016   \n",
       "ID397586714     5 Ballater St        ESSENDON  1756000.0    h  17/09/2016   \n",
       "ID956573078        15 Alma St    MALVERN EAST  1550000.0    h  28/08/2016   \n",
       "ID490427481    50 Bamfield St     SANDRINGHAM  2700000.0    h   9/09/2017   \n",
       "ID422846797   8 Watchtower Rd          COBURG   675000.0    h   4/02/2016   \n",
       "...                       ...             ...        ...  ...         ...   \n",
       "ID784968145     34 Fewster Dr  WANTIRNA SOUTH   970000.0    h  26/08/2017   \n",
       "ID255393777      45 Severn Cr        ROWVILLE   936000.0    h   8/07/2017   \n",
       "ID764463824       21 Bruce St       BENTLEIGH  1535000.0    h  28/08/2016   \n",
       "ID980413162     78 Valley Pde       GLEN IRIS  2725000.0    h  25/02/2017   \n",
       "ID430233025  43 Molesworth St         SEAFORD   800000.0    h   8/07/2017   \n",
       "\n",
       "             Rooms  Bathroom  Car  Landsize    Age  ...  over_priced?  \\\n",
       "ID                                                  ...                 \n",
       "ID140280461      3       1.0  1.0     202.0  139.0  ...          True   \n",
       "ID397586714      5       2.0  5.0     963.0   69.0  ...         False   \n",
       "ID956573078      4       2.0  4.0     848.0   49.0  ...         False   \n",
       "ID490427481      4       2.0  1.0     722.0  129.0  ...         False   \n",
       "ID422846797      3       1.0  2.0     142.0   14.0  ...         False   \n",
       "...            ...       ...  ...       ...    ...  ...           ...   \n",
       "ID784968145      3       2.0  2.0     674.0   38.0  ...         False   \n",
       "ID255393777      4       2.0  2.0     675.0   39.0  ...         False   \n",
       "ID764463824      3       2.0  2.0     572.0   89.0  ...         False   \n",
       "ID980413162      4       3.0  2.0     603.0   12.0  ...         False   \n",
       "ID430233025      4       2.0  0.0    1151.0   50.0  ...         False   \n",
       "\n",
       "             crime_A_average crime_B_average  crime_C_average  \\\n",
       "ID                                                              \n",
       "ID140280461       703.666667     1502.000000       135.666667   \n",
       "ID397586714       334.666667     1407.666667        88.333333   \n",
       "ID956573078       610.000000     1743.666667       228.000000   \n",
       "ID490427481       101.666667      251.333333        18.666667   \n",
       "ID422846797      1071.333333     5783.666667       419.666667   \n",
       "...                      ...             ...              ...   \n",
       "ID784968145        98.666667      190.666667        19.000000   \n",
       "ID255393777      1609.333333     6840.666667       525.666667   \n",
       "ID764463824       925.666667     4701.333333       308.666667   \n",
       "ID980413162      2047.666667     9171.000000       742.333333   \n",
       "ID430233025       101.666667      251.333333        18.666667   \n",
       "\n",
       "                     closest_primary_school  distance_to_closest_primary  \\\n",
       "ID                                                                         \n",
       "ID140280461  Yarraville West Primary School                      555.369   \n",
       "ID397586714             St Therese's School                      497.772   \n",
       "ID956573078      Murrumbeena Primary School                      517.742   \n",
       "ID490427481      Sandringham Primary School                      159.886   \n",
       "ID422846797                St Paul's School                      460.131   \n",
       "...                                     ...                          ...   \n",
       "ID784968145     Knox Gardens Primary School                      199.105   \n",
       "ID255393777       Park Ridge Primary School                      349.547   \n",
       "ID764463824                St Paul's School                      898.322   \n",
       "ID980413162             St Cecilia's School                      243.266   \n",
       "ID430233025   Belvedere Park Primary School                      493.658   \n",
       "\n",
       "             primary_school_ranking       closest_secondary_school  \\\n",
       "ID                                                                   \n",
       "ID140280461                     105      Gilmore College For Girls   \n",
       "ID397586714                     387           Buckley Park College   \n",
       "ID956573078                      80               Oakleigh Grammar   \n",
       "ID490427481                     353            Sandringham College   \n",
       "ID422846797                     211             Coburg High School   \n",
       "...                             ...                            ...   \n",
       "ID784968145                      37     Scoresby Secondary College   \n",
       "ID255393777                     361     Rowville Secondary College   \n",
       "ID764463824                     211     McKinnon Secondary College   \n",
       "ID980413162                      50  Korowa Anglican Girls' School   \n",
       "ID430233025              not ranked     Monterey Secondary College   \n",
       "\n",
       "             distance_to_closest secondary secondary_school_ranking  \n",
       "ID                                                                   \n",
       "ID140280461                       2478.316                      387  \n",
       "ID397586714                        703.405                      123  \n",
       "ID956573078                       1383.905                      270  \n",
       "ID490427481                       1666.155                      304  \n",
       "ID422846797                        278.849                       79  \n",
       "...                                    ...                      ...  \n",
       "ID784968145                        909.779                      330  \n",
       "ID255393777                       2071.293                      423  \n",
       "ID764463824                        771.481                       48  \n",
       "ID980413162                       1424.656                       13  \n",
       "ID430233025                       1439.342                      507  \n",
       "\n",
       "[720 rows x 25 columns]"
      ]
     },
     "execution_count": 57,
     "metadata": {},
     "output_type": "execute_result"
    }
   ],
   "source": [
    "df"
   ]
  },
  {
   "cell_type": "code",
   "execution_count": 58,
   "metadata": {},
   "outputs": [],
   "source": [
    "df.to_csv(\"Group081_solution.csv\")  "
   ]
  },
  {
   "cell_type": "markdown",
   "metadata": {},
   "source": [
    "# Task 2: Data Reshaping\n",
    "<a id=\"task_2\"></a>\n",
    "In this task, we use different normalization and transformation methods, such as standardization, min-max normalization, log, power, and root transformation on Rooms, crime_C_acerage, travel_min_to_CBD, and property_age to find which normalization/transformation method would work better to fit the linear model on price.\n"
   ]
  },
  {
   "cell_type": "code",
   "execution_count": 59,
   "metadata": {},
   "outputs": [],
   "source": [
    "df = pd.read_csv('Group081_solution.csv')"
   ]
  },
  {
   "cell_type": "code",
   "execution_count": 60,
   "metadata": {},
   "outputs": [],
   "source": [
    "# extract columns used in the linear regression and save in temp\n",
    "col_list = ['Price', 'Rooms', 'crime_C_average', 'Age', 'travel_min_to_CBD']\n",
    "temp = df[col_list]"
   ]
  },
  {
   "cell_type": "markdown",
   "metadata": {},
   "source": [
    "#### define functions to process normalisations and transformations"
   ]
  },
  {
   "cell_type": "code",
   "execution_count": 61,
   "metadata": {},
   "outputs": [],
   "source": [
    "def std_normalisation(df, col):\n",
    "    std_scale = preprocessing.StandardScaler().fit(df[[col]])\n",
    "    df_std = std_scale.transform(df[[col]])\n",
    "    name = 'std_' + col\n",
    "    df[name] = df_std[:,0]"
   ]
  },
  {
   "cell_type": "code",
   "execution_count": 62,
   "metadata": {},
   "outputs": [],
   "source": [
    "def minmax_normalisation(df, col):\n",
    "    minmax_scale = preprocessing.MinMaxScaler().fit(df[[col]])\n",
    "    name = 'minmax_' + col\n",
    "    df[name] = minmax_scale.transform(df[[col]])"
   ]
  },
  {
   "cell_type": "code",
   "execution_count": 63,
   "metadata": {},
   "outputs": [],
   "source": [
    "def root_transformation(df, col):\n",
    "    name = 'root_' + col\n",
    "    df[name] = None\n",
    "    i = 0\n",
    "    for row in df.iterrows():\n",
    "        df[name].at[i] = math.sqrt(df[col][i])\n",
    "        i += 1\n",
    "    df[name] = df[name].astype('float')"
   ]
  },
  {
   "cell_type": "code",
   "execution_count": 64,
   "metadata": {},
   "outputs": [],
   "source": [
    "def square_transformation(df, col):\n",
    "    name = 'square_' + col\n",
    "    df[name] = None\n",
    "    i = 0\n",
    "    for row in df.iterrows():\n",
    "        df[name].at[i] = math.pow(df[col][i],2)\n",
    "        i += 1\n",
    "    df[name] = df[name].astype('float')"
   ]
  },
  {
   "cell_type": "code",
   "execution_count": 65,
   "metadata": {},
   "outputs": [],
   "source": [
    "def log_transformation(df, col):\n",
    "    name = 'log_' + col\n",
    "    df[name] = None\n",
    "    i = 0\n",
    "    for row in df.iterrows():\n",
    "        df[name].at[i] = math.log(df[col][i])\n",
    "        i += 1\n",
    "\n",
    "    df[name] = df[name].astype('float')"
   ]
  },
  {
   "cell_type": "code",
   "execution_count": 66,
   "metadata": {},
   "outputs": [
    {
     "data": {
      "text/html": [
       "<div>\n",
       "<style scoped>\n",
       "    .dataframe tbody tr th:only-of-type {\n",
       "        vertical-align: middle;\n",
       "    }\n",
       "\n",
       "    .dataframe tbody tr th {\n",
       "        vertical-align: top;\n",
       "    }\n",
       "\n",
       "    .dataframe thead th {\n",
       "        text-align: right;\n",
       "    }\n",
       "</style>\n",
       "<table border=\"1\" class=\"dataframe\">\n",
       "  <thead>\n",
       "    <tr style=\"text-align: right;\">\n",
       "      <th></th>\n",
       "      <th>Price</th>\n",
       "      <th>Rooms</th>\n",
       "      <th>crime_C_average</th>\n",
       "      <th>Age</th>\n",
       "      <th>travel_min_to_CBD</th>\n",
       "    </tr>\n",
       "  </thead>\n",
       "  <tbody>\n",
       "    <tr>\n",
       "      <td>count</td>\n",
       "      <td>7.200000e+02</td>\n",
       "      <td>720.000000</td>\n",
       "      <td>720.000000</td>\n",
       "      <td>720.000000</td>\n",
       "      <td>720.000000</td>\n",
       "    </tr>\n",
       "    <tr>\n",
       "      <td>mean</td>\n",
       "      <td>1.072268e+06</td>\n",
       "      <td>2.938889</td>\n",
       "      <td>457.181944</td>\n",
       "      <td>53.893056</td>\n",
       "      <td>25.728157</td>\n",
       "    </tr>\n",
       "    <tr>\n",
       "      <td>std</td>\n",
       "      <td>6.632444e+05</td>\n",
       "      <td>1.009903</td>\n",
       "      <td>408.716810</td>\n",
       "      <td>45.738094</td>\n",
       "      <td>11.704298</td>\n",
       "    </tr>\n",
       "    <tr>\n",
       "      <td>min</td>\n",
       "      <td>1.450000e+05</td>\n",
       "      <td>1.000000</td>\n",
       "      <td>1.000000</td>\n",
       "      <td>2.000000</td>\n",
       "      <td>0.000000</td>\n",
       "    </tr>\n",
       "    <tr>\n",
       "      <td>25%</td>\n",
       "      <td>6.100000e+05</td>\n",
       "      <td>2.000000</td>\n",
       "      <td>159.333333</td>\n",
       "      <td>21.000000</td>\n",
       "      <td>18.333333</td>\n",
       "    </tr>\n",
       "    <tr>\n",
       "      <td>50%</td>\n",
       "      <td>8.830000e+05</td>\n",
       "      <td>3.000000</td>\n",
       "      <td>375.666667</td>\n",
       "      <td>49.000000</td>\n",
       "      <td>25.316667</td>\n",
       "    </tr>\n",
       "    <tr>\n",
       "      <td>75%</td>\n",
       "      <td>1.368750e+06</td>\n",
       "      <td>4.000000</td>\n",
       "      <td>586.666667</td>\n",
       "      <td>69.000000</td>\n",
       "      <td>32.103896</td>\n",
       "    </tr>\n",
       "    <tr>\n",
       "      <td>max</td>\n",
       "      <td>6.500000e+06</td>\n",
       "      <td>8.000000</td>\n",
       "      <td>2042.333333</td>\n",
       "      <td>823.000000</td>\n",
       "      <td>68.818182</td>\n",
       "    </tr>\n",
       "  </tbody>\n",
       "</table>\n",
       "</div>"
      ],
      "text/plain": [
       "              Price       Rooms  crime_C_average         Age  \\\n",
       "count  7.200000e+02  720.000000       720.000000  720.000000   \n",
       "mean   1.072268e+06    2.938889       457.181944   53.893056   \n",
       "std    6.632444e+05    1.009903       408.716810   45.738094   \n",
       "min    1.450000e+05    1.000000         1.000000    2.000000   \n",
       "25%    6.100000e+05    2.000000       159.333333   21.000000   \n",
       "50%    8.830000e+05    3.000000       375.666667   49.000000   \n",
       "75%    1.368750e+06    4.000000       586.666667   69.000000   \n",
       "max    6.500000e+06    8.000000      2042.333333  823.000000   \n",
       "\n",
       "       travel_min_to_CBD  \n",
       "count         720.000000  \n",
       "mean           25.728157  \n",
       "std            11.704298  \n",
       "min             0.000000  \n",
       "25%            18.333333  \n",
       "50%            25.316667  \n",
       "75%            32.103896  \n",
       "max            68.818182  "
      ]
     },
     "execution_count": 66,
     "metadata": {},
     "output_type": "execute_result"
    }
   ],
   "source": [
    "# show the statistical characters of the temp\n",
    "temp.describe()"
   ]
  },
  {
   "cell_type": "markdown",
   "metadata": {},
   "source": [
    "The values of **Price** are way larger than other values in other columns. In this situation, I suppose that **log transformation** is more suitable. And looking at the temp dataframe, it is clear that the values of log_Price column's standard error is less than others. As for the **Age** column, since the difference between min and max is large, as well as the standard error is large, using **log transformation** can solve this problem. Also due to this reason, I think log transformation is suitable for the **crime_C_average** column. As for the **travel_min_to_CBD column**, it contains the value of 0 which means it can not be applied log transformation, in this case, I assume it is used **root transformation**. When it comes to the **Rooms** column, its values are basically in a small range, so I do not think it requires any normalisation or transformation."
   ]
  },
  {
   "cell_type": "code",
   "execution_count": 70,
   "metadata": {},
   "outputs": [
    {
     "name": "stderr",
     "output_type": "stream",
     "text": [
      "/Users/tangwei/opt/anaconda3/lib/python3.7/site-packages/ipykernel_launcher.py:3: SettingWithCopyWarning: \n",
      "A value is trying to be set on a copy of a slice from a DataFrame.\n",
      "Try using .loc[row_indexer,col_indexer] = value instead\n",
      "\n",
      "See the caveats in the documentation: http://pandas.pydata.org/pandas-docs/stable/user_guide/indexing.html#returning-a-view-versus-a-copy\n",
      "  This is separate from the ipykernel package so we can avoid doing imports until\n",
      "/Users/tangwei/opt/anaconda3/lib/python3.7/site-packages/ipykernel_launcher.py:9: SettingWithCopyWarning: \n",
      "A value is trying to be set on a copy of a slice from a DataFrame.\n",
      "Try using .loc[row_indexer,col_indexer] = value instead\n",
      "\n",
      "See the caveats in the documentation: http://pandas.pydata.org/pandas-docs/stable/user_guide/indexing.html#returning-a-view-versus-a-copy\n",
      "  if __name__ == '__main__':\n",
      "/Users/tangwei/opt/anaconda3/lib/python3.7/site-packages/ipykernel_launcher.py:8: SettingWithCopyWarning: \n",
      "A value is trying to be set on a copy of a slice from a DataFrame.\n",
      "Try using .loc[row_indexer,col_indexer] = value instead\n",
      "\n",
      "See the caveats in the documentation: http://pandas.pydata.org/pandas-docs/stable/user_guide/indexing.html#returning-a-view-versus-a-copy\n",
      "  \n"
     ]
    }
   ],
   "source": [
    "# apply log transformation in Price, Age, crime_C_average\n",
    "for col in ['Price', 'Age', 'crime_C_average']:\n",
    "    log_transformation(temp, col)\n",
    "    \n",
    "# apply root transformation in travel_min_to_CBD\n",
    "root_transformation(temp,'travel_min_to_CBD')"
   ]
  },
  {
   "cell_type": "code",
   "execution_count": 71,
   "metadata": {},
   "outputs": [
    {
     "data": {
      "text/plain": [
       "<matplotlib.axes._subplots.AxesSubplot at 0x12f7fcfd0>"
      ]
     },
     "execution_count": 71,
     "metadata": {},
     "output_type": "execute_result"
    },
    {
     "data": {
      "image/png": "[encoded data removed]",
      "text/plain": [
       "<Figure size 432x288 with 1 Axes>"
      ]
     },
     "metadata": {
      "needs_background": "light"
     },
     "output_type": "display_data"
    }
   ],
   "source": [
    "# plot each variables in one graph\n",
    "temp.log_Age.plot(color = 'red')\n",
    "temp.log_crime_C_average.plot(color = 'blue')\n",
    "temp.root_travel_min_to_CBD.plot(color = 'green')\n",
    "temp.Rooms.plot(color = 'yellow')"
   ]
  },
  {
   "cell_type": "code",
   "execution_count": 72,
   "metadata": {},
   "outputs": [
    {
     "data": {
      "image/png": "[encoded data removed]",
      "text/plain": [
       "<Figure size 432x288 with 1 Axes>"
      ]
     },
     "metadata": {
      "needs_background": "light"
     },
     "output_type": "display_data"
    }
   ],
   "source": [
    "# for each column, plot the col - price scatter graph.\n",
    "for col in ['log_Age','log_crime_C_average','root_travel_min_to_CBD','Rooms']:\n",
    "    plt.scatter(temp[col], temp.log_Price)"
   ]
  },
  {
   "cell_type": "markdown",
   "metadata": {},
   "source": [
    "According to the two graphs above, I think **applying log transformation in crime_C_average, Age, and Price**, **applying root transformation in travel_min_to_CBD** is a good choice."
   ]
  },
  {
   "cell_type": "markdown",
   "metadata": {},
   "source": [
    "#### Build up the model by parameters above using ols"
   ]
  },
  {
   "cell_type": "code",
   "execution_count": 73,
   "metadata": {},
   "outputs": [
    {
     "name": "stdout",
     "output_type": "stream",
     "text": [
      "                            OLS Regression Results                            \n",
      "==============================================================================\n",
      "Dep. Variable:              log_Price   R-squared:                       0.433\n",
      "Model:                            OLS   Adj. R-squared:                  0.430\n",
      "Method:                 Least Squares   F-statistic:                     136.7\n",
      "Date:                Sun, 27 Oct 2019   Prob (F-statistic):           1.06e-86\n",
      "Time:                        19:19:41   Log-Likelihood:                -390.03\n",
      "No. Observations:                 720   AIC:                             790.1\n",
      "Df Residuals:                     715   BIC:                             813.0\n",
      "Df Model:                           4                                         \n",
      "Covariance Type:            nonrobust                                         \n",
      "==========================================================================================\n",
      "                             coef    std err          t      P>|t|      [0.025      0.975]\n",
      "------------------------------------------------------------------------------------------\n",
      "Intercept                 12.8425      0.121    106.241      0.000      12.605      13.080\n",
      "log_Age                    0.0821      0.017      4.780      0.000       0.048       0.116\n",
      "log_crime_C_average        0.0086      0.014      0.640      0.522      -0.018       0.035\n",
      "root_travel_min_to_CBD    -0.1100      0.012     -8.901      0.000      -0.134      -0.086\n",
      "Rooms                      0.3657      0.016     22.395      0.000       0.334       0.398\n",
      "==============================================================================\n",
      "Omnibus:                        7.855   Durbin-Watson:                   1.947\n",
      "Prob(Omnibus):                  0.020   Jarque-Bera (JB):               10.845\n",
      "Skew:                           0.074   Prob(JB):                      0.00442\n",
      "Kurtosis:                       3.583   Cond. No.                         70.1\n",
      "==============================================================================\n",
      "\n",
      "Warnings:\n",
      "[1] Standard Errors assume that the covariance matrix of the errors is correctly specified.\n"
     ]
    }
   ],
   "source": [
    "model = sm.ols(formula=\"log_Price ~ log_Age \\\n",
    "+ log_crime_C_average\\\n",
    "+ root_travel_min_to_CBD\\\n",
    "+ Rooms\"\\\n",
    "               ,data=temp).fit() # fit the model\n",
    "print(model.summary()) # show details of the model"
   ]
  },
  {
   "cell_type": "markdown",
   "metadata": {},
   "source": [
    "#### plot predicted values and real values(log_Price) in one graph\n"
   ]
  },
  {
   "cell_type": "code",
   "execution_count": 74,
   "metadata": {},
   "outputs": [
    {
     "data": {
      "text/plain": [
       "<matplotlib.axes._subplots.AxesSubplot at 0x12fe17f90>"
      ]
     },
     "execution_count": 74,
     "metadata": {},
     "output_type": "execute_result"
    },
    {
     "data": {
      "image/png": "[encoded data removed]",
      "text/plain": [
       "<Figure size 432x288 with 1 Axes>"
      ]
     },
     "metadata": {
      "needs_background": "light"
     },
     "output_type": "display_data"
    }
   ],
   "source": [
    "y_fitted = model.fittedvalues\n",
    "y_fitted.plot(color='red')\n",
    "temp.log_Price.plot(color='blue')"
   ]
  },
  {
   "cell_type": "markdown",
   "metadata": {},
   "source": [
    "# Summary\n",
    "<a id=\"summary\"></a>\n",
    "\n",
    "In this assignment, we learn how to integrate serveral dataets into one signle schema and fond and fix possible problems in the data by using Python 3. In addition, we use different normalization and transformation methods, such as standardization, min-max normalization, log, power, and root transformation on Rooms, crime_C_acerage, travel_min_to_CBD, and property_age to find which normalization/transformation method would work better to fit the linear model on price."
   ]
  },
  {
   "cell_type": "code",
   "execution_count": null,
   "metadata": {},
   "outputs": [],
   "source": []
  }
 ],
 "metadata": {
  "kernelspec": {
   "display_name": "Python 3",
   "language": "python",
   "name": "python3"
  },
  "language_info": {
   "codemirror_mode": {
    "name": "ipython",
    "version": 3
   },
   "file_extension": ".py",
   "mimetype": "text/x-python",
   "name": "python",
   "nbconvert_exporter": "python",
   "pygments_lexer": "ipython3",
   "version": "3.7.4"
  }
 },
 "nbformat": 4,
 "nbformat_minor": 2
}
